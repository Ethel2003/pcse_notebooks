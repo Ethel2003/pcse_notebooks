{
 "cells": [
  {
   "cell_type": "code",
   "execution_count": null,
   "id": "a6d9d2d0",
   "metadata": {},
   "outputs": [],
   "source": [
    "import sys\n",
    "import matplotlib\n",
    "\n",
    "import matplotlib.pyplot as plt\n",
    "import yaml\n",
    "import pandas as pd\n",
    "import numpy as np\n",
    "import nlopt\n",
    "from itertools import product\n",
    "from progressbar import printProgressBar\n",
    "\n",
    "import pcse\n",
    "from pcse.models import Wofost72_PP, Wofost72_WLP_FD\n",
    "from pcse.base import ParameterProvider\n",
    "from pcse.db import NASAPowerWeatherDataProvider\n",
    "from pcse.fileinput import YAMLAgroManagementReader, YAMLCropDataProvider\n",
    "from pcse.util import WOFOST72SiteDataProvider, DummySoilDataProvider\n",
    "import scipy"
   ]
  },
  {
   "cell_type": "code",
   "execution_count": null,
   "id": "6fa1f1ba",
   "metadata": {},
   "outputs": [],
   "source": [
    "%matplotlib inline\n",
    "matplotlib.style.use(\"ggplot\")"
   ]
  },
  {
   "cell_type": "code",
   "execution_count": null,
   "id": "7ccca1fc",
   "metadata": {},
   "outputs": [],
   "source": [
    "# Weather data for Netherlands\n",
    "wdp = NASAPowerWeatherDataProvider(latitude=52, longitude=5)\n",
    "\n",
    "# Standard crop parameter library\n",
    "cropd = YAMLCropDataProvider()\n",
    "\n",
    "# We don't need soil for potential production, so we use dummy values\n",
    "soild = DummySoilDataProvider()\n",
    "\n",
    "# Some site parameters\n",
    "sited = WOFOST72SiteDataProvider(WAV=50, CO2=360.)\n",
    "\n",
    "# Package everyting into a single parameter object\n",
    "params = ParameterProvider(cropdata=cropd, sitedata=sited, soildata=soild)"
   ]
  },
  {
   "cell_type": "code",
   "execution_count": null,
   "id": "191c5442",
   "metadata": {},
   "outputs": [],
   "source": [
    "agro_yaml = \"\"\"\n",
    "- 2006-01-01:\n",
    "    CropCalendar:\n",
    "        crop_name: sugarbeet\n",
    "        variety_name: Sugarbeet_603\n",
    "        crop_start_date: 2006-03-31\n",
    "        crop_start_type: emergence\n",
    "        crop_end_date: 2006-10-20\n",
    "        crop_end_type: harvest\n",
    "        max_duration: 300\n",
    "    TimedEvents:\n",
    "    -   event_signal: irrigate\n",
    "        name: Irrigation application table\n",
    "        comment: All irrigation amounts in cm\n",
    "        events_table:\n",
    "        - 2006-07-01: {{amount: {a0}, efficiency: 0.7}}\n",
    "        - 2006-08-01: {{amount: 10, efficiency: 0.7}}\n",
    "    StateEvents: null\n",
    "\"\"\"\n",
    "\n",
    "def objective_function(\n",
    "    irrigation_volume_in_cm: float,\n",
    "    parameterprovider=params,\n",
    "    weatherdataprovider=wdp,\n",
    ") -> float:\n",
    "    agromanagement = yaml.safe_load(\n",
    "        agro_yaml.format(a0=irrigation_volume_in_cm)\n",
    "    )\n",
    "    wofost = Wofost72_PP(parameterprovider, weatherdataprovider, agromanagement)\n",
    "    wofost.run_till_terminate()\n",
    "    output = wofost.get_output()\n",
    "    df_output = pd.DataFrame(output)\n",
    "    return -df_output[\"LAI\"].sum()"
   ]
  },
  {
   "cell_type": "code",
   "execution_count": null,
   "id": "0e5044a5",
   "metadata": {},
   "outputs": [],
   "source": [
    "type(objective_function(10))"
   ]
  },
  {
   "cell_type": "code",
   "execution_count": null,
   "id": "47e7d53c",
   "metadata": {},
   "outputs": [],
   "source": [
    "scipy.optimize.minimize(\n",
    "    fun=objective_function,\n",
    "    x0=5, method = \"BFGS\"\n",
    ")"
   ]
  },
  {
   "cell_type": "code",
   "execution_count": null,
   "id": "a45770b9",
   "metadata": {},
   "outputs": [],
   "source": []
  }
 ],
 "metadata": {
  "kernelspec": {
   "display_name": "Python 3.9.6 ('env': venv)",
   "language": "python",
   "name": "python3"
  },
  "language_info": {
   "codemirror_mode": {
    "name": "ipython",
    "version": 3
   },
   "file_extension": ".py",
   "mimetype": "text/x-python",
   "name": "python",
   "nbconvert_exporter": "python",
   "pygments_lexer": "ipython3",
   "version": "3.9.6"
  },
  "vscode": {
   "interpreter": {
    "hash": "ca82e2e7fbf635a2a8ca509a6744b96d6a0d8fd3ad60f215719f12c81971629e"
   }
  }
 },
 "nbformat": 4,
 "nbformat_minor": 5
}
