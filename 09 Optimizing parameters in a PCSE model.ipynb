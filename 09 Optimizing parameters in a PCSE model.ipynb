{
 "cells": [
  {
   "cell_type": "markdown",
   "metadata": {},
   "source": [
    "<img style=\"float: right;\" src=\"data:image/png;base64,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\">\n",
    "\n"
   ]
  },
  {
   "cell_type": "markdown",
   "metadata": {},
   "source": [
    "# Optimizing parameters in a PCSE crop model\n",
    "\n",
    "In this Jupyter notebook we will demonstrate how to optimize parameters in a PCSE model. In this example a set of synthetic observations of LAI will be used to optimize the TWDI (total initial dry weight) and SPAN (life span of leaves) parameters of the PCSE/WOFOST model using an optimization algorithm.\n",
    "\n",
    "We use the SUBPLEX optimization algorithm implemented in the (NLOPT)[https://nlopt.readthedocs.io/en/latest/] optimization library. NLOPT can be a bit hard to install. Your best bet is to first try to install NLOPT through the conda package manager which is part of the (anaconda)[https://www.anaconda.com] python distribution. If that fails (I have seen this happening particularly on windows), you can download the library from the site of Christoph Gohlke [here](https://www.lfd.uci.edu/~gohlke/pythonlibs/) who provides pre-compiled windows binaries for many python libraries. In the latter case you can install the package with `pip install <package.whl>`.\n",
    "\n",
    "Allard de Wit, January 2018 (allard.dewit@wur.nl)\n"
   ]
  },
  {
   "cell_type": "markdown",
   "metadata": {},
   "source": [
    "## First some relevant imports"
   ]
  },
  {
   "cell_type": "code",
   "execution_count": null,
   "metadata": {},
   "outputs": [],
   "source": [
    "%matplotlib inline\n",
    "import sys\n",
    "import matplotlib\n",
    "matplotlib.style.use(\"ggplot\")\n",
    "import matplotlib.pyplot as plt\n",
    "import yaml\n",
    "import pandas as pd\n",
    "import numpy as np\n",
    "import nlopt\n",
    "from itertools import product\n",
    "from progressbar import printProgressBar\n",
    "\n",
    "import pcse\n",
    "from pcse.models import Wofost72_PP\n",
    "from pcse.base import ParameterProvider\n",
    "from pcse.db import NASAPowerWeatherDataProvider\n",
    "from pcse.fileinput import YAMLAgroManagementReader, YAMLCropDataProvider\n",
    "from pcse.util import WOFOST72SiteDataProvider, DummySoilDataProvider\n",
    "print(\"This notebook was built with:\")\n",
    "print(\"python version: %s \" % sys.version)\n",
    "print(\"PCSE version: %s\" %  pcse.__version__)"
   ]
  },
  {
   "cell_type": "markdown",
   "metadata": {},
   "source": [
    "## Collect necessary input data for WOFOST"
   ]
  },
  {
   "cell_type": "code",
   "execution_count": null,
   "metadata": {
    "scrolled": true
   },
   "outputs": [],
   "source": [
    "# Weather data for Netherlands\n",
    "wdp = NASAPowerWeatherDataProvider(latitude=52, longitude=5)\n",
    "# Standard crop parameter library\n",
    "cropd = YAMLCropDataProvider()\n",
    "# We don't need soil for potential production, so we use dummy values\n",
    "soild = DummySoilDataProvider()\n",
    "# Some site parameters\n",
    "sited = WOFOST72SiteDataProvider(WAV=50, CO2=360.)\n",
    "# Package everyting into a single parameter object\n",
    "params = ParameterProvider(cropdata=cropd, sitedata=sited, soildata=soild)"
   ]
  },
  {
   "cell_type": "code",
   "execution_count": null,
   "metadata": {},
   "outputs": [],
   "source": [
    "# Here we define the agromanagement for sugar beet\n",
    "agro_yaml = \"\"\"\n",
    "- 2006-01-01:\n",
    "    CropCalendar:\n",
    "        crop_name: sugarbeet\n",
    "        variety_name: Sugarbeet_603\n",
    "        crop_start_date: 2006-03-31\n",
    "        crop_start_type: emergence\n",
    "        crop_end_date: 2006-10-20\n",
    "        crop_end_type: harvest\n",
    "        max_duration: 300\n",
    "    TimedEvents: null\n",
    "    StateEvents: null\n",
    "\"\"\"\n",
    "agro = yaml.safe_load(agro_yaml)"
   ]
  },
  {
   "cell_type": "markdown",
   "metadata": {},
   "source": [
    "# Run the simulation with the default parameters\n",
    "We use the standard WOFOST output as pseudo observations, so first we run the model with the default crop parameters and collect the output."
   ]
  },
  {
   "cell_type": "code",
   "execution_count": null,
   "metadata": {},
   "outputs": [],
   "source": [
    "wofost = Wofost72_PP(params, wdp, agro)\n",
    "wofost.run_till_terminate()\n",
    "df = pd.DataFrame(wofost.get_output())\n",
    "df.index = pd.to_datetime(df.day)\n",
    "df.tail()"
   ]
  },
  {
   "cell_type": "markdown",
   "metadata": {},
   "source": [
    "## Sample the WOFOST output to generate some \"observations\"\n",
    "Let's assume that we have weekly field observations of LAI, therefore we resample the dataframe with WOFOST output."
   ]
  },
  {
   "cell_type": "code",
   "execution_count": null,
   "metadata": {},
   "outputs": [],
   "source": [
    "# get daily observations for those\n",
    "ix = (df.index.dayofweek == 0) & (df.LAI.notnull())\n",
    "df_pseudo_obs = df.loc[ix]\n",
    "fig, axes = plt.subplots(figsize=(12,8))\n",
    "axes.plot_date(df_pseudo_obs.index, df_pseudo_obs.LAI)\n",
    "r = axes.set_title(\"Pseudo LAI observations\")"
   ]
  },
  {
   "cell_type": "markdown",
   "metadata": {},
   "source": [
    "## Define a model runner\n",
    "A model runner just reruns the WOFOST model with different values for a set of parameters, in this case \"TDWI\" and \"SPAN\". It then collects the model output, converts it to a dataframe and returns it. \n",
    "\n",
    "Changing the model parameters for each WOFOST simulation is done with the `set_override()` method on the parameter object."
   ]
  },
  {
   "cell_type": "code",
   "execution_count": null,
   "metadata": {},
   "outputs": [],
   "source": [
    "class ModelRerunner(object):\n",
    "    \"\"\"Reruns a given model with different values of parameters TWDI and SPAN.\n",
    "    \n",
    "    Returns a pandas DataFrame with simulation results of the model with given\n",
    "    parameter values.\n",
    "    \"\"\"\n",
    "    parameters = [\"TDWI\", \"SPAN\"]\n",
    "    \n",
    "    def __init__(self, params, wdp, agro):\n",
    "        self.params = params\n",
    "        self.wdp = wdp\n",
    "        self.agro = agro\n",
    "        \n",
    "    def __call__(self, par_values):\n",
    "        # Check if correct number of parameter values were provided\n",
    "        if len(par_values) != len(self.parameters):\n",
    "            msg = \"Optimizing %i parameters, but only % values were provided!\" % (len(self.parameters, len(par_values)))\n",
    "            raise RuntimeError(msg)\n",
    "        # Clear any existing overrides\n",
    "        self.params.clear_override()\n",
    "        # Set overrides for the new parameter values\n",
    "        for parname, value in zip(self.parameters, par_values):\n",
    "            self.params.set_override(parname, value)\n",
    "        # Run the model with given parameter values\n",
    "        wofost = Wofost72_PP(self.params, self.wdp, self.agro)\n",
    "        wofost.run_till_terminate()\n",
    "        df = pd.DataFrame(wofost.get_output())\n",
    "        df.index = pd.to_datetime(df.day)\n",
    "        return df"
   ]
  },
  {
   "cell_type": "markdown",
   "metadata": {},
   "source": [
    "## Define an object function calculator\n",
    "The objective function calculator runs the WOFOST model with the given set of input parameters, collects the simulation results and computes the differences with the observations. Different objective functions can be used, in this case we use the root of the mean squared error (RMSE)."
   ]
  },
  {
   "cell_type": "code",
   "execution_count": null,
   "metadata": {},
   "outputs": [],
   "source": [
    "class ObjectiveFunctionCalculator(object):\n",
    "    \"\"\"Computes the objective function.\n",
    "    \n",
    "    This class runs the simulation model with given parameter values and returns the objective\n",
    "    function as the sum of squared difference between observed and simulated LAI.\n",
    ".   \"\"\"\n",
    "    \n",
    "    def __init__(self, params, wdp, agro, observations):\n",
    "        self.modelrerunner = ModelRerunner(params, wdp, agro)\n",
    "        self.df_observations = observations\n",
    "        self.n_calls = 0\n",
    "       \n",
    "    def __call__(self, par_values, grad=None):\n",
    "        \"\"\"Runs the model and computes the objective function for given par_values.\n",
    "        \n",
    "        The input parameter 'grad' must be defined in the function call, but is only\n",
    "        required for optimization methods where analytical gradients can be computed.\n",
    "        \"\"\"\n",
    "        self.n_calls += 1\n",
    "        print(\".\", end=\"\")\n",
    "        # Run the model and collect output\n",
    "        self.df_simulations = self.modelrerunner(par_values)\n",
    "        # compute the differences by subtracting the DataFrames\n",
    "        # Note that the dataframes automatically join on the index (dates) and column names\n",
    "        df_differences = self.df_simulations - self.df_observations\n",
    "        # Compute the RMSE on the LAI column\n",
    "        obj_func = np.sqrt(np.mean(df_differences.LAI**2))\n",
    "        return obj_func"
   ]
  },
  {
   "cell_type": "markdown",
   "metadata": {},
   "source": [
    "## Test the objective function calculator\n",
    "The objective function calculator should return a value of zero when called with the default \n",
    "values of TWDI and SPAN."
   ]
  },
  {
   "cell_type": "code",
   "execution_count": null,
   "metadata": {},
   "outputs": [],
   "source": [
    "objfunc_calculator = ObjectiveFunctionCalculator(params, wdp, agro, df_pseudo_obs)\n",
    "defaults = [cropd[\"TDWI\"], cropd[\"SPAN\"]]\n",
    "error = objfunc_calculator(defaults)\n",
    "print(\"Objective function value with default parameters (%s): %s\" % (defaults, error))"
   ]
  },
  {
   "cell_type": "markdown",
   "metadata": {},
   "source": [
    "## Let's try to find the optimum by brute force\n",
    "We will now find the optimum by simply trying combinations of TDWI/SPAN across a grid in certain step sizes. Of course in reality we do not know where the true value is and you may need to make the step size smaller. Note that with small step sizes (or more parameters), the number of function calls increases exponentially and this approach becomes impractical.\n",
    "\n",
    "With the current example, we do not reach an error of zero because with our default stepsize (0.05) TWDI does not hit the true value (0.51)."
   ]
  },
  {
   "cell_type": "code",
   "execution_count": null,
   "metadata": {},
   "outputs": [],
   "source": [
    "lowest_error = 99999\n",
    "best_values = None\n",
    "\n",
    "# min/max and values for TDWI\n",
    "TDWI_range = [0.1, 0.6]\n",
    "stepsize1 = 0.05\n",
    "TDWI_values = np.arange(TDWI_range[0], TDWI_range[1], stepsize1)\n",
    "\n",
    "# min/max and values for SPAN\n",
    "SPAN_range = [30, 40]\n",
    "stepsize2 = 1\n",
    "SPAN_values = np.arange(SPAN_range[0], SPAN_range[1], stepsize2)\n",
    "\n",
    "nruns = len(TDWI_values) * len(SPAN_values)\n",
    "printProgressBar(0, nruns, prefix = 'Progress:', suffix = 'Complete', length = 50)\n",
    "ncalls = 0\n",
    "for p1, p2 in product(TDWI_values, SPAN_values):\n",
    "    ncalls += 1\n",
    "    error = objfunc_calculator([p1, p2])\n",
    "    if error <  lowest_error:\n",
    "        best_values = [p1, p2]\n",
    "        lowest_error = error\n",
    "    printProgressBar(ncalls+1, nruns, prefix = ' Progress:', suffix = 'Complete', length = 50)\n",
    "\n",
    "print(\"\\noptimum at TDWI: %s, SPAN: %s\" % (best_values[0], best_values[1]))\n",
    "print(\"minimum value = \",  lowest_error)\n",
    "print(\"With %i function calls\" % ncalls)"
   ]
  },
  {
   "cell_type": "markdown",
   "metadata": {},
   "source": [
    "## Try to do smart optimization: use NLOPT\n",
    "the [NLOPT library](https://nlopt.readthedocs.io/en/latest/) provides many algorithms for numerical optimization. We use NLOPT a lot for optimization of crop simulation models but only the global search algorithms (the 'GN' algorithms) and the local search algorithms that do not require analytical gradients (the 'LN' algorithms) because computing analytical gradients on crop simulation models is difficult. My experience is that the NLOPT library provides better optimization algorithms compared to [`scipy.optimize`](https://docs.scipy.org/doc/scipy/reference/optimize.html). \n",
    "\n"
   ]
  },
  {
   "cell_type": "code",
   "execution_count": null,
   "metadata": {},
   "outputs": [],
   "source": [
    "objfunc_calculator = ObjectiveFunctionCalculator(params, wdp, agro, df_pseudo_obs)\n",
    "# Start optimizer with the SUBPLEX algorithm for two parameters\n",
    "opt = nlopt.opt(nlopt.LN_SBPLX, 2)\n",
    "# Assign the objective function calculator\n",
    "opt.set_min_objective(objfunc_calculator)\n",
    "# lower bounds of parameters values\n",
    "opt.set_lower_bounds([TDWI_range[0], SPAN_range[0]])\n",
    "# upper bounds of parameters values\n",
    "opt.set_upper_bounds([TDWI_range[1], SPAN_range[1]])\n",
    "# the initial step size to compute numerical gradients\n",
    "opt.set_initial_step([0.02, 2.])\n",
    "# Maximum number of evaluations allowed\n",
    "opt.set_maxeval(200)\n",
    "# Relative tolerance for convergence\n",
    "opt.set_ftol_rel(0.1)\n",
    "\n",
    "# Start the optimization with the first guess\n",
    "firstguess = [0.2, 31.]\n",
    "x = opt.optimize(firstguess)\n",
    "print(\"\\noptimum at TDWI: %s, SPAN: %s\" % (x[0], x[1]))\n",
    "print(\"minimum value = \",  opt.last_optimum_value())\n",
    "print(\"result code = \", opt.last_optimize_result())\n",
    "print(\"With %i function calls\" % objfunc_calculator.n_calls)"
   ]
  },
  {
   "cell_type": "markdown",
   "metadata": {},
   "source": [
    "As you can see, the NLOPT algorithm can find a solution with a similar accuracy with much less function calls (This depends on the value of `set_ftol_rel` though: lower tolerance value will require more function evaluations.\n",
    "\n",
    "## Plot pseudo observations and simulated LAI after optimization \n",
    "The figure below shows the pseudo observations and the final results after the model parameters were optimized given the observations. As you can see: they fit quite well with the pseudo observations and are a large improvement over the \"first guess\" "
   ]
  },
  {
   "cell_type": "code",
   "execution_count": null,
   "metadata": {},
   "outputs": [],
   "source": [
    "# rerun with the best parameters found\n",
    "error = objfunc_calculator(x)\n",
    "fig, axes = plt.subplots(figsize=(12,8))\n",
    "axes.plot_date(df_pseudo_obs.index, df_pseudo_obs.LAI, label=\"Pseudo observation\")\n",
    "axes.plot_date(objfunc_calculator.df_simulations.index, objfunc_calculator.df_simulations.LAI, \"k:\", label=\"optimized\")\n",
    "# rerun to show the first guess for the first guess\n",
    "error = objfunc_calculator(firstguess)\n",
    "axes.plot_date(objfunc_calculator.df_simulations.index, objfunc_calculator.df_simulations.LAI, \"g:\", label=\"first guess\")\n",
    "axes.set_title(\"Pseudo LAI observations with optimized model.\")\n",
    "r = fig.legend()"
   ]
  },
  {
   "cell_type": "code",
   "execution_count": null,
   "metadata": {},
   "outputs": [],
   "source": []
  }
 ],
 "metadata": {
  "kernelspec": {
   "display_name": "Python 3 (ipykernel)",
   "language": "python",
   "name": "python3"
  },
  "language_info": {
   "codemirror_mode": {
    "name": "ipython",
    "version": 3
   },
   "file_extension": ".py",
   "mimetype": "text/x-python",
   "name": "python",
   "nbconvert_exporter": "python",
   "pygments_lexer": "ipython3",
   "version": "3.8.12"
  }
 },
 "nbformat": 4,
 "nbformat_minor": 1
}
